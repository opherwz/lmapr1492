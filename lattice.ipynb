{
 "cells": [
  {
   "cell_type": "code",
   "execution_count": 95,
   "id": "welcome-contributor",
   "metadata": {},
   "outputs": [],
   "source": [
    "from pymatgen.ext.matproj import MPRester\n",
    "from pymatgen import Structure\n",
    "import math"
   ]
  },
  {
   "cell_type": "code",
   "execution_count": 1,
   "id": "popular-technology",
   "metadata": {},
   "outputs": [
    {
     "ename": "NameError",
     "evalue": "name 'MPRester' is not defined",
     "output_type": "error",
     "traceback": [
      "\u001b[0;31m---------------------------------------------------------------------------\u001b[0m",
      "\u001b[0;31mNameError\u001b[0m                                 Traceback (most recent call last)",
      "\u001b[0;32m<ipython-input-1-c4e58165ac73>\u001b[0m in \u001b[0;36m<module>\u001b[0;34m\u001b[0m\n\u001b[0;32m----> 1\u001b[0;31m \u001b[0;32mwith\u001b[0m \u001b[0mMPRester\u001b[0m\u001b[0;34m(\u001b[0m\u001b[0;34m\"OV6IQnDH4z66TTER\"\u001b[0m\u001b[0;34m)\u001b[0m \u001b[0;32mas\u001b[0m \u001b[0mm\u001b[0m\u001b[0;34m:\u001b[0m\u001b[0;34m\u001b[0m\u001b[0;34m\u001b[0m\u001b[0m\n\u001b[0m\u001b[1;32m      2\u001b[0m \u001b[0;34m\u001b[0m\u001b[0m\n\u001b[1;32m      3\u001b[0m     \u001b[0;31m# Structure for material id\u001b[0m\u001b[0;34m\u001b[0m\u001b[0;34m\u001b[0m\u001b[0;34m\u001b[0m\u001b[0m\n\u001b[1;32m      4\u001b[0m     \u001b[0mstructure\u001b[0m \u001b[0;34m=\u001b[0m \u001b[0mm\u001b[0m\u001b[0;34m.\u001b[0m\u001b[0mget_structure_by_material_id\u001b[0m\u001b[0;34m(\u001b[0m\u001b[0;34m\"mp-567259\"\u001b[0m\u001b[0;34m)\u001b[0m\u001b[0;34m\u001b[0m\u001b[0;34m\u001b[0m\u001b[0m\n\u001b[1;32m      5\u001b[0m \u001b[0;34m\u001b[0m\u001b[0m\n",
      "\u001b[0;31mNameError\u001b[0m: name 'MPRester' is not defined"
     ]
    }
   ],
   "source": [
    "with MPRester(\"OV6IQnDH4z66TTER\") as m:\n",
    "\n",
    "    # Structure for material id\n",
    "    structure = m.get_structure_by_material_id(\"mp-567259\")\n",
    "\n",
    "    # Dos for material id\n",
    "    dos = m.get_dos_by_material_id(\"mp-567259\")\n",
    "\n",
    "    # Bandstructure for material id\n",
    "    bandstructure = m.get_bandstructure_by_material_id(\"mp-567259\", line_mode = True)\n",
    "    \n",
    "    data = m.get_data(\"mp-567259\",data_type='vasp', prop='')\n",
    "    type_maille = {'P': 'primitive', 'I' : 'centrée', 'C' : 'Deux faces centrées', 'F' : 'Faces centrées' }\n",
    "    \n",
    "    space = data[0].get(\"spacegroup\")   \n",
    "    volume = data[0].get(\"volume\")\n",
    "    syst_cristallin = \"Système cristallin : \" + space.get(\"crystal_system\")\n",
    "    ponctual = \"Groupe ponctuel : \" + space.get(\"point_group\")\n",
    "    symbole = space.get(\"symbol\") \n",
    "    maille = \"Type de maille : \" + type_maille.get(symbole[0])\n",
    "  \n",
    "    \n",
    "    cif = m.query(criteria = {\"task_id\":\"mp-567259\"}, properties = [\"cif\"])[0].get(\"cif\").splitlines()\n",
    "    a = float(cif[3][17:])\n",
    "    b = float(cif[4][17:])\n",
    "    c = float(cif[5][17:])\n",
    "    alpha = float(cif[6][17:])\n",
    "    beta = float(cif[7][17:])\n",
    "    gamma = float(cif[8][17:])\n",
    "    a_ = (2*math.pi*b*c*math.sin(alpha))/volume\n",
    "    b_ = (2*math.pi*a*c*math.sin(beta))/volume\n",
    "    c_ = (2*math.pi*a*b*math.sin(gamma))/volume\n",
    "    vct_direct = \"Vecteurs de base du réseau direct :  a = {0}  Å  ; b = {1}  Å   ; c = {2}  Å \".format(str(a),str(b),str(c))\n",
    "    vct_reci = \"Vecteurs de base du réseau réciproque :   a_ = {0}  Å  ; b_ = {1}  Å   ; c_ = {2}  Å \".format(str(a_),str(b_),str(c_))"
   ]
  },
  {
   "cell_type": "code",
   "execution_count": 97,
   "id": "iraqi-digit",
   "metadata": {
    "scrolled": true
   },
   "outputs": [
    {
     "name": "stdout",
     "output_type": "stream",
     "text": [
      "Full Formula (Cd1 I2)\n",
      "Reduced Formula: CdI2\n",
      "abc   :   4.346905   4.346905   7.300202\n",
      "angles:  90.000000  90.000000 119.999987\n",
      "Sites (3)\n",
      "  #  SP           a         b         c    magmom\n",
      "---  ----  --------  --------  --------  --------\n",
      "  0  Cd    0         0         0               -0\n",
      "  1  I     0.333333  0.666667  0.235079         0\n",
      "  2  I     0.666667  0.333333  0.764921         0\n",
      "Complete DOS for Full Formula (Cd1 I2)\n",
      "Reduced Formula: CdI2\n",
      "abc   :   4.346905   4.346905   7.300202\n",
      "angles:  90.000000  90.000000 119.999987\n",
      "Sites (3)\n",
      "  #  SP           a         b         c\n",
      "---  ----  --------  --------  --------\n",
      "  0  Cd    0         0         0\n",
      "  1  I     0.333333  0.666667  0.235079\n",
      "  2  I     0.666667  0.333333  0.764921\n",
      "<pymatgen.electronic_structure.bandstructure.BandStructureSymmLine object at 0x7fd95c1952e8>\n"
     ]
    }
   ],
   "source": [
    "print(structure)\n",
    "print(dos)\n",
    "print(bandstructure)"
   ]
  },
  {
   "cell_type": "code",
   "execution_count": 105,
   "id": "agreed-officer",
   "metadata": {},
   "outputs": [
    {
     "name": "stdout",
     "output_type": "stream",
     "text": [
      "Système cristallin : trigonal\n",
      "Groupe ponctuel : -3m\n",
      "Type de maille : primitive\n",
      "Vecteurs de base du réseau direct :  a = 4.34690511  Å  ; b = 4.34690511  Å   ; c = 7.300202  Å \n",
      "Vecteurs de base du réseau réciproque :   a_ = 1.4921239972398381  Å  ; b_ = 1.4921239972398381  Å   ; c_ = 0.57702080880061  Å \n"
     ]
    }
   ],
   "source": [
    "#print(data)\n",
    "print(syst_cristallin)\n",
    "print(ponctual)\n",
    "print(maille)\n",
    "print(vct_direct)\n",
    "print(vct_reci)\n"
   ]
  },
  {
   "cell_type": "code",
   "execution_count": null,
   "id": "humanitarian-prerequisite",
   "metadata": {},
   "outputs": [],
   "source": []
  }
 ],
 "metadata": {
  "kernelspec": {
   "display_name": "Python 3",
   "language": "python",
   "name": "python3"
  },
  "language_info": {
   "codemirror_mode": {
    "name": "ipython",
    "version": 3
   },
   "file_extension": ".py",
   "mimetype": "text/x-python",
   "name": "python",
   "nbconvert_exporter": "python",
   "pygments_lexer": "ipython3",
   "version": "3.6.8"
  }
 },
 "nbformat": 4,
 "nbformat_minor": 5
}
