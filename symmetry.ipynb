{
 "cells": [
  {
   "cell_type": "code",
   "execution_count": 2,
   "id": "particular-eclipse",
   "metadata": {},
   "outputs": [],
   "source": [
    "from pymatgen.ext.matproj import MPRester\n",
    "from pymatgen import Structure\n",
    "from pymatgen.symmetry.analyzer import SpacegroupAnalyzer\n",
    "from jupyter_jsmol import JsmolView\n",
    "from jupyter_jsmol.pymatgen import quick_view\n",
    "from ipywidgets import Layout, widgets, interact\n",
    "from pymatgen.core.operations import SymmOp"
   ]
  },
  {
   "cell_type": "code",
   "execution_count": 19,
   "id": "comparable-dietary",
   "metadata": {},
   "outputs": [
    {
     "data": {
      "application/vnd.jupyter.widget-view+json": {
       "model_id": "0f5abc692f214669b67bfe411864e23e",
       "version_major": 2,
       "version_minor": 0
      },
      "text/plain": [
       "JsmolView(layout=Layout(align_self='stretch', height='400px'))"
      ]
     },
     "metadata": {},
     "output_type": "display_data"
    }
   ],
   "source": [
    "with MPRester(\"OV6IQnDH4z66TTER\") as m:\n",
    "\n",
    "    # Structure for material id\n",
    "    structure = m.get_structure_by_material_id(\"mp-567259\")\n",
    "    # Dos for material id\n",
    "    dos = m.get_dos_by_material_id(\"mp-567259\")\n",
    "    # Bandstructure for material id\n",
    "    bandstructure = m.get_bandstructure_by_material_id(\"mp-567259\")\n",
    "    #view\n",
    "    view = quick_view(structure)\n",
    "    display(view)    "
   ]
  },
  {
   "cell_type": "code",
   "execution_count": 24,
   "id": "injured-april",
   "metadata": {},
   "outputs": [
    {
     "data": {
      "application/vnd.jupyter.widget-view+json": {
       "model_id": "e706b998e0044bf7b9771cb8d5283c66",
       "version_major": 2,
       "version_minor": 0
      },
      "text/plain": [
       "JsmolView(layout=Layout(align_self='stretch', height='400px'))"
      ]
     },
     "metadata": {},
     "output_type": "display_data"
    },
    {
     "name": "stdout",
     "output_type": "stream",
     "text": [
      "Rot:\n",
      "[[ 1.  0.  0.]\n",
      " [ 1. -1.  0.]\n",
      " [ 0.  0.  1.]]\n",
      "tau\n",
      "[0. 0. 0.]\n"
     ]
    }
   ],
   "source": [
    "    #symétrie1\n",
    "    view = quick_view(structure)\n",
    "    display(view)\n",
    "    view.script(\"draw symop 12 {atomno=1}\")\n",
    "    spa_symmop = SpacegroupAnalyzer(structure).get_symmetry_operations()\n",
    "    Sym1 = spa_symmop[11]\n",
    "    print(Sym1)"
   ]
  },
  {
   "cell_type": "markdown",
   "id": "plastic-mountain",
   "metadata": {},
   "source": [
    "Le premier élément de symétrie analysé est la douxième symétrie appliquée sur l'atome n°1.\n",
    "Il s'agit d'un plan miroir d'équation 'x, x-y, z'."
   ]
  },
  {
   "cell_type": "code",
   "execution_count": 25,
   "id": "cleared-housing",
   "metadata": {},
   "outputs": [
    {
     "data": {
      "application/vnd.jupyter.widget-view+json": {
       "model_id": "b1853987f2f9431e96618f5b81aa082e",
       "version_major": 2,
       "version_minor": 0
      },
      "text/plain": [
       "JsmolView(layout=Layout(align_self='stretch', height='400px'))"
      ]
     },
     "metadata": {},
     "output_type": "display_data"
    },
    {
     "name": "stdout",
     "output_type": "stream",
     "text": [
      "Rot:\n",
      "[[ 0.  1.  0.]\n",
      " [ 1.  0.  0.]\n",
      " [ 0.  0. -1.]]\n",
      "tau\n",
      "[0. 0. 0.]\n"
     ]
    }
   ],
   "source": [
    "    #symétrie2\n",
    "    view = quick_view(structure)\n",
    "    display(view)\n",
    "    view.script(\"draw symop 7 {atomno=5}\")\n",
    "    spa_symmop = SpacegroupAnalyzer(structure).get_symmetry_operations()\n",
    "    Sym2 = spa_symmop[6]\n",
    "    print(Sym2)"
   ]
  },
  {
   "cell_type": "markdown",
   "id": "fixed-gather",
   "metadata": {},
   "source": [
    "Le premier élément de symétrie analysé est la septième symétrie appliquée sur l'atome n°5.\n",
    "Il s'agit d'une rotation d'équation 'y, x, -z'."
   ]
  },
  {
   "cell_type": "code",
   "execution_count": 18,
   "id": "dependent-housing",
   "metadata": {},
   "outputs": [
    {
     "data": {
      "application/vnd.jupyter.widget-view+json": {
       "model_id": "020d6836c03343e1bc1ee2927b38e540",
       "version_major": 2,
       "version_minor": 0
      },
      "text/plain": [
       "JsmolView(layout=Layout(align_self='stretch', height='400px'))"
      ]
     },
     "metadata": {},
     "output_type": "display_data"
    },
    {
     "name": "stdout",
     "output_type": "stream",
     "text": [
      "Rot:\n",
      "[[-1.  0.  0.]\n",
      " [ 0. -1.  0.]\n",
      " [ 0.  0. -1.]]\n",
      "tau\n",
      "[0. 0. 0.]\n"
     ]
    }
   ],
   "source": [
    "    #symétrie3\n",
    "    view = quick_view(structure)\n",
    "    display(view)\n",
    "    view.script(\"draw symop 2 {atomno=3}\")\n",
    "    spa_symmop = SpacegroupAnalyzer(structure).get_symmetry_operations()\n",
    "    Sym3 = spa_symmop[1]\n",
    "    print(Sym3)"
   ]
  },
  {
   "cell_type": "markdown",
   "id": "alternative-webcam",
   "metadata": {},
   "source": [
    "Le premier élément de symétrie analysé est la deuxième symétrie appliquée sur l'atome n°3.\n",
    "Il s'agit d'une inversion d'équation '-x, -y, -z'."
   ]
  },
  {
   "cell_type": "code",
   "execution_count": null,
   "id": "coated-dependence",
   "metadata": {},
   "outputs": [],
   "source": []
  }
 ],
 "metadata": {
  "kernelspec": {
   "display_name": "Python 3",
   "language": "python",
   "name": "python3"
  },
  "language_info": {
   "codemirror_mode": {
    "name": "ipython",
    "version": 3
   },
   "file_extension": ".py",
   "mimetype": "text/x-python",
   "name": "python",
   "nbconvert_exporter": "python",
   "pygments_lexer": "ipython3",
   "version": "3.6.8"
  }
 },
 "nbformat": 4,
 "nbformat_minor": 5
}
