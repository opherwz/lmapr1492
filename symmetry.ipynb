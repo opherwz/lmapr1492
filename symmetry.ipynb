{
 "cells": [
  {
   "cell_type": "code",
   "execution_count": 2,
   "id": "particular-eclipse",
   "metadata": {},
   "outputs": [],
   "source": [
    "from pymatgen.ext.matproj import MPRester\n",
    "from pymatgen import Structure\n",
    "from pymatgen.symmetry.analyzer import SpacegroupAnalyzer\n",
    "from jupyter_jsmol import JsmolView\n",
    "from jupyter_jsmol.pymatgen import quick_view\n",
    "from ipywidgets import Layout, widgets, interact\n",
    "from pymatgen.core.operations import SymmOp"
   ]
  },
  {
   "cell_type": "code",
   "execution_count": 19,
   "id": "comparable-dietary",
   "metadata": {},
   "outputs": [
    {
     "data": {
      "application/vnd.jupyter.widget-view+json": {
       "model_id": "0f5abc692f214669b67bfe411864e23e",
       "version_major": 2,
       "version_minor": 0
      },
      "text/plain": [
       "JsmolView(layout=Layout(align_self='stretch', height='400px'))"
      ]
     },
     "metadata": {},
     "output_type": "display_data"
    }
   ],
   "source": [
    "with MPRester(\"OV6IQnDH4z66TTER\") as m:\n",
    "\n",
    "    # Structure for material id\n",
    "    structure = m.get_structure_by_material_id(\"mp-567259\")\n",
    "    # Dos for material id\n",
    "    dos = m.get_dos_by_material_id(\"mp-567259\")\n",
    "    # Bandstructure for material id\n",
    "    bandstructure = m.get_bandstructure_by_material_id(\"mp-567259\")\n",
    "    #view\n",
    "    view = quick_view(structure)\n",
    "    display(view)    "
   ]
  },
  {
   "cell_type": "code",
   "execution_count": 26,
   "id": "injured-april",
   "metadata": {},
   "outputs": [
    {
     "data": {
      "application/vnd.jupyter.widget-view+json": {
       "model_id": "c6c4fa7293fb45a888bf92531a2d1d1d",
       "version_major": 2,
       "version_minor": 0
      },
      "text/plain": [
       "JsmolView(layout=Layout(align_self='stretch', height='400px'))"
      ]
     },
     "metadata": {},
     "output_type": "display_data"
    },
    {
     "name": "stdout",
     "output_type": "stream",
     "text": [
      "Rot:\n",
      "[[ 1.  0.  0.]\n",
      " [ 1. -1.  0.]\n",
      " [ 0.  0.  1.]]\n",
      "tau\n",
      "[0. 0. 0.]\n"
     ]
    }
   ],
   "source": [
    "    #symétrie1\n",
    "    view = quick_view(structure)\n",
    "    display(view)\n",
    "    view.script(\"draw symop 12 {atomno=1}\")\n",
    "    spa_symmop = SpacegroupAnalyzer(structure).get_symmetry_operations()\n",
    "    Sym1 = spa_symmop[11]\n",
    "    print(Sym1)"
   ]
  },
  {
   "cell_type": "markdown",
   "id": "plastic-mountain",
   "metadata": {},
   "source": [
    "Le premier élément de symétrie analysé est la douxième symétrie appliquée sur l'atome n°1.\\\n",
    "Il s'agit d'une réflexion par un plan miroir qui envoie l'atome #1 sur l'atome #1 lui même, le déterminant de la matrice de symétrie vaut -1.\\ \n",
    "L'équation de symétrie correspondante est la suivante:\\\n",
    "$$\n",
    "\\left(\\begin{array}{cc} \n",
    "1 & 0 & 0\\\\\n",
    "1 & -1 & 0\\\\\n",
    "0 & 0 & 1\n",
    "\\end{array}\\right)\n",
    "\\left(\\begin{array}{cc} \n",
    "x\\\\ \n",
    "y\\\\\n",
    "z\n",
    "\\end{array}\\right)=\n",
    "\\left(\\begin{array}{cc} \n",
    "x\\\\ \n",
    "x-y\\\\\n",
    "z\n",
    "\\end{array}\\right)\n",
    "$$ "
   ]
  },
  {
   "cell_type": "code",
   "execution_count": 28,
   "id": "cleared-housing",
   "metadata": {},
   "outputs": [
    {
     "data": {
      "application/vnd.jupyter.widget-view+json": {
       "model_id": "b6806be00c9a496eaaa2d256228ab7a3",
       "version_major": 2,
       "version_minor": 0
      },
      "text/plain": [
       "JsmolView(layout=Layout(align_self='stretch', height='400px'))"
      ]
     },
     "metadata": {},
     "output_type": "display_data"
    },
    {
     "name": "stdout",
     "output_type": "stream",
     "text": [
      "Rot:\n",
      "[[ 0.  1.  0.]\n",
      " [ 1.  0.  0.]\n",
      " [ 0.  0. -1.]]\n",
      "tau\n",
      "[0. 0. 0.]\n"
     ]
    }
   ],
   "source": [
    "    #symétrie2\n",
    "    view = quick_view(structure, supercell = [2,2,2])\n",
    "    display(view)\n",
    "    view.script(\"draw symop 7 {atomno=5}\")\n",
    "    spa_symmop = SpacegroupAnalyzer(structure).get_symmetry_operations()\n",
    "    Sym2 = spa_symmop[6]\n",
    "    print(Sym2)"
   ]
  },
  {
   "cell_type": "markdown",
   "id": "fixed-gather",
   "metadata": {},
   "source": [
    "Le premier élément de symétrie analysé est la septième symétrie appliquée sur l'atome n°5.\\\n",
    "Il s'agit d'une roto-inversion (le déterminant de la matrice de symétrie vaut -1) et l'équation de symétrie correspondante est la suivante:\\\n",
    "$$\n",
    "\\left(\\begin{array}{cc} \n",
    "0 & 1 & 0\\\\\n",
    "1 & 0 & 0\\\\\n",
    "0 & 0 & -1\n",
    "\\end{array}\\right)\n",
    "\\left(\\begin{array}{cc} \n",
    "x\\\\ \n",
    "y\\\\\n",
    "z\n",
    "\\end{array}\\right)=\n",
    "\\left(\\begin{array}{cc} \n",
    "y\\\\ \n",
    "x\\\\\n",
    "-z\n",
    "\\end{array}\\right)\n",
    "$$ "
   ]
  },
  {
   "cell_type": "code",
   "execution_count": 18,
   "id": "dependent-housing",
   "metadata": {},
   "outputs": [
    {
     "data": {
      "application/vnd.jupyter.widget-view+json": {
       "model_id": "020d6836c03343e1bc1ee2927b38e540",
       "version_major": 2,
       "version_minor": 0
      },
      "text/plain": [
       "JsmolView(layout=Layout(align_self='stretch', height='400px'))"
      ]
     },
     "metadata": {},
     "output_type": "display_data"
    },
    {
     "name": "stdout",
     "output_type": "stream",
     "text": [
      "Rot:\n",
      "[[-1.  0.  0.]\n",
      " [ 0. -1.  0.]\n",
      " [ 0.  0. -1.]]\n",
      "tau\n",
      "[0. 0. 0.]\n"
     ]
    }
   ],
   "source": [
    "    #symétrie3\n",
    "    view = quick_view(structure)\n",
    "    display(view)\n",
    "    view.script(\"draw symop 2 {atomno=3}\")\n",
    "    spa_symmop = SpacegroupAnalyzer(structure).get_symmetry_operations()\n",
    "    Sym3 = spa_symmop[1]\n",
    "    print(Sym3)"
   ]
  },
  {
   "cell_type": "markdown",
   "id": "alternative-webcam",
   "metadata": {},
   "source": [
    "Le premier élément de symétrie analysé est la deuxième symétrie appliquée sur l'atome n°3.\\\n",
    "Il s'agit d'une inversion et l'équation de symétrie correspondante est la suivante:\\\n",
    "$$\n",
    "\\left(\\begin{array}{cc} \n",
    "-1 & 0 & 0\\\\\n",
    "0 & -1 & 0\\\\\n",
    "0 & 0 & -1\n",
    "\\end{array}\\right)\n",
    "\\left(\\begin{array}{cc} \n",
    "x\\\\ \n",
    "y\\\\\n",
    "z\n",
    "\\end{array}\\right)=\n",
    "\\left(\\begin{array}{cc} \n",
    "-x\\\\ \n",
    "-y\\\\\n",
    "-z\n",
    "\\end{array}\\right)\n",
    "$$ "
   ]
  },
  {
   "cell_type": "code",
   "execution_count": null,
   "id": "coated-dependence",
   "metadata": {},
   "outputs": [],
   "source": []
  },
  {
   "cell_type": "code",
   "execution_count": null,
   "id": "wrong-tuning",
   "metadata": {},
   "outputs": [],
   "source": []
  }
 ],
 "metadata": {
  "kernelspec": {
   "display_name": "Python 3",
   "language": "python",
   "name": "python3"
  },
  "language_info": {
   "codemirror_mode": {
    "name": "ipython",
    "version": 3
   },
   "file_extension": ".py",
   "mimetype": "text/x-python",
   "name": "python",
   "nbconvert_exporter": "python",
   "pygments_lexer": "ipython3",
   "version": "3.6.8"
  }
 },
 "nbformat": 4,
 "nbformat_minor": 5
}
