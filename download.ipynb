{
 "cells": [
  {
   "cell_type": "code",
   "execution_count": 2,
   "id": "welcome-contributor",
   "metadata": {},
   "outputs": [],
   "source": [
    "from pymatgen.ext.matproj import MPRester\n",
    "from pymatgen import Structure"
   ]
  },
  {
   "cell_type": "code",
   "execution_count": 3,
   "id": "popular-technology",
   "metadata": {},
   "outputs": [],
   "source": [
    "with MPRester(\"OV6IQnDH4z66TTER\") as m:\n",
    "\n",
    "    # Structure for material id\n",
    "    structure = m.get_structure_by_material_id(\"mp-567259\")\n",
    "\n",
    "    # Dos for material id\n",
    "    dos = m.get_dos_by_material_id(\"mp-567259\")\n",
    "\n",
    "    # Bandstructure for material id\n",
    "    bandstructure = m.get_bandstructure_by_material_id(\"mp-567259\")\n",
    "    "
   ]
  },
  {
   "cell_type": "code",
   "execution_count": 4,
   "id": "iraqi-digit",
   "metadata": {},
   "outputs": [
    {
     "name": "stdout",
     "output_type": "stream",
     "text": [
      "Full Formula (Cd1 I2)\n",
      "Reduced Formula: CdI2\n",
      "abc   :   4.346905   4.346905   7.300202\n",
      "angles:  90.000000  90.000000 119.999987\n",
      "Sites (3)\n",
      "  #  SP           a         b         c    magmom\n",
      "---  ----  --------  --------  --------  --------\n",
      "  0  Cd    0         0         0               -0\n",
      "  1  I     0.333333  0.666667  0.235079         0\n",
      "  2  I     0.666667  0.333333  0.764921         0\n"
     ]
    }
   ],
   "source": [
    "print(structure)"
   ]
  },
  {
   "cell_type": "code",
   "execution_count": 5,
   "id": "expressed-newfoundland",
   "metadata": {},
   "outputs": [
    {
     "name": "stdout",
     "output_type": "stream",
     "text": [
      "Complete DOS for Full Formula (Cd1 I2)\n",
      "Reduced Formula: CdI2\n",
      "abc   :   4.346905   4.346905   7.300202\n",
      "angles:  90.000000  90.000000 119.999987\n",
      "Sites (3)\n",
      "  #  SP           a         b         c\n",
      "---  ----  --------  --------  --------\n",
      "  0  Cd    0         0         0\n",
      "  1  I     0.333333  0.666667  0.235079\n",
      "  2  I     0.666667  0.333333  0.764921\n"
     ]
    }
   ],
   "source": [
    "print(dos)"
   ]
  },
  {
   "cell_type": "code",
   "execution_count": 6,
   "id": "tamil-fisher",
   "metadata": {},
   "outputs": [
    {
     "name": "stdout",
     "output_type": "stream",
     "text": [
      "<pymatgen.electronic_structure.bandstructure.BandStructureSymmLine object at 0x7fa56b0dec50>\n"
     ]
    }
   ],
   "source": [
    "print(bandstructure)"
   ]
  },
  {
   "cell_type": "code",
   "execution_count": null,
   "id": "agreed-officer",
   "metadata": {},
   "outputs": [],
   "source": []
  }
 ],
 "metadata": {
  "kernelspec": {
   "display_name": "Python 3",
   "language": "python",
   "name": "python3"
  },
  "language_info": {
   "codemirror_mode": {
    "name": "ipython",
    "version": 3
   },
   "file_extension": ".py",
   "mimetype": "text/x-python",
   "name": "python",
   "nbconvert_exporter": "python",
   "pygments_lexer": "ipython3",
   "version": "3.6.8"
  }
 },
 "nbformat": 4,
 "nbformat_minor": 5
}
